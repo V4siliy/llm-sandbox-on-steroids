{
 "cells": [
  {
   "cell_type": "code",
   "execution_count": 11,
   "id": "initial_id",
   "metadata": {
    "collapsed": true,
    "ExecuteTime": {
     "end_time": "2025-02-03T16:42:41.197403Z",
     "start_time": "2025-02-03T16:42:41.186082Z"
    }
   },
   "outputs": [],
   "source": [
    "import math\n",
    "\n",
    "from graphviz import Digraph\n",
    "\n",
    "\n",
    "class Value:\n",
    "    def __init__(self, data, _children=(), _op='', label='' ):\n",
    "        self.data = data\n",
    "        self.grad = 0.0\n",
    "        self._backward = lambda: None\n",
    "        self._prev = set(_children)\n",
    "        self._op = _op\n",
    "        self.label = label\n",
    "        \n",
    "    def __repr__(self):\n",
    "        return f\"Value(data={self.data})\"\n",
    "        \n",
    "    def __add__(self, other):\n",
    "        other = other if isinstance(other, Value) else Value(other) \n",
    "        out = Value(self.data + other.data, (self, other), _op='+')\n",
    "        \n",
    "        def _backward():\n",
    "            self.grad += 1.0 * out.grad \n",
    "            other.grad += 1.0 * out.grad\n",
    "        out._backward = _backward\n",
    "        \n",
    "        return out\n",
    "    \n",
    "    def __neg__(self):\n",
    "        return self * -1\n",
    "\n",
    "    def __sub__(self, other):\n",
    "        return self + (-other)\n",
    "\n",
    "    \n",
    "    def __mul__(self, other):\n",
    "        other = other if isinstance(other, Value) else Value(other)\n",
    "        out = Value(self.data * other.data, (self, other), _op='*')\n",
    "        \n",
    "        def _backward():\n",
    "            self.grad += other.data * out.grad \n",
    "            other.grad += self.data * out.grad\n",
    "        out._backward = _backward\n",
    "        \n",
    "        return out\n",
    "    \n",
    "    def __rmul__(self, other):\n",
    "        return self * other\n",
    "    \n",
    "    def __truediv__(self, other): # self / other\n",
    "        return self * other**-1\n",
    " \n",
    "    def __pow__(self, other):\n",
    "        assert isinstance(other, (int, float)), \"only supporting int/float powers for now\"\n",
    "        out = Value(self.data**other, (self,), f'**{other}')\n",
    "    \n",
    "        def _backward():\n",
    "            self.grad += other * (self.data ** (other - 1)) * out.grad\n",
    "        out._backward = _backward\n",
    "\n",
    "        return out\n",
    "\n",
    "    def exp(self):\n",
    "        x = self.data\n",
    "        out = Value(math.exp(x), (self, ), 'exp')\n",
    "    \n",
    "        def _backward():\n",
    "          self.grad += out.data * out.grad \n",
    "        out._backward = _backward\n",
    "    \n",
    "        return out\n",
    "    \n",
    "    def tanh(self):\n",
    "        x = self.data\n",
    "        t = (math.exp(2*x)-1)/(math.exp(2*x) + 1)\n",
    "        out = Value(t, (self, ), _op='tanh')\n",
    "        \n",
    "        def _backward():\n",
    "            self.grad += (1 - t**2) * out.grad\n",
    "        out._backward = _backward\n",
    "        \n",
    "        return out \n",
    "    \n",
    "    def backward(self):\n",
    "        topo = []\n",
    "        visited = set()\n",
    "        def build_topo(v):\n",
    "          if v not in visited:\n",
    "            visited.add(v)\n",
    "            for child in v._prev:\n",
    "              build_topo(child)\n",
    "            topo.append(v)\n",
    "        build_topo(self)\n",
    "        \n",
    "        self.grad = 1.0\n",
    "        for node in reversed(topo):\n",
    "            node._backward()\n",
    " \n",
    " \n",
    "def trace(root):\n",
    "    nodes, edges = set(), set()\n",
    "    def build(v):\n",
    "        if v not in nodes:\n",
    "            nodes.add(v)\n",
    "            for child in v._prev:\n",
    "                edges.add((child, v))\n",
    "                build(child)\n",
    "    build(root)\n",
    "    return nodes, edges\n",
    "\n",
    "def draw_dot(root, format='svg', rankdir='LR'):\n",
    "    \"\"\"\n",
    "    format: png | svg | ...\n",
    "    rankdir: TB (top to bottom graph) | LR (left to right)\n",
    "    \"\"\"\n",
    "    assert rankdir in ['LR', 'TB']\n",
    "    nodes, edges = trace(root)\n",
    "    dot = Digraph(format=format, graph_attr={'rankdir': rankdir}) #, node_attr={'rankdir': 'TB'})\n",
    "    \n",
    "    for n in nodes:\n",
    "        dot.node(name=str(id(n)), label = \"{ %s | data %.4f | grad %.4f }\" % (n.label, n.data, n.grad), shape='record')\n",
    "        if n._op:\n",
    "            dot.node(name=str(id(n)) + n._op, label=n._op)\n",
    "            dot.edge(str(id(n)) + n._op, str(id(n)))\n",
    "    \n",
    "    for n1, n2 in edges:\n",
    "        dot.edge(str(id(n1)), str(id(n2)) + n2._op)\n",
    "    \n",
    "    return dot"
   ]
  },
  {
   "cell_type": "code",
   "outputs": [],
   "source": [
    "# inputs x1,x2\n",
    "x1 = Value(2.0, label='x1')\n",
    "x2 = Value(0.0, label='x2')\n",
    "# weights w1,w2\n",
    "w1 = Value(-3.0, label='w1')\n",
    "w2 = Value(1.0, label='w2')\n",
    "# bias of the neuron\n",
    "b = Value(6.8813735870195432, label='b')\n",
    "# x1*w1 + x2*w2 + b\n",
    "x1w1 = x1*w1; x1w1.label = 'x1*w1'\n",
    "x2w2 = x2*w2; x2w2.label = 'x2*w2'\n",
    "x1w1x2w2 = x1w1 + x2w2; x1w1x2w2.label = 'x1*w1 + x2*w2'\n",
    "n = x1w1x2w2 + b; n.label = 'n'\n",
    "o = n.tanh(); o.label = 'o'\n",
    "o.backward()"
   ],
   "metadata": {
    "collapsed": false,
    "ExecuteTime": {
     "end_time": "2025-02-03T16:39:44.358951Z",
     "start_time": "2025-02-03T16:39:44.355577Z"
    }
   },
   "id": "460a625eb05c0730",
   "execution_count": 7
  },
  {
   "cell_type": "code",
   "outputs": [
    {
     "data": {
      "image/svg+xml": "<?xml version=\"1.0\" encoding=\"UTF-8\" standalone=\"no\"?>\n<!DOCTYPE svg PUBLIC \"-//W3C//DTD SVG 1.1//EN\"\n \"http://www.w3.org/Graphics/SVG/1.1/DTD/svg11.dtd\">\n<!-- Generated by graphviz version 12.2.1 (20241206.2353)\n -->\n<!-- Pages: 1 -->\n<svg width=\"1567pt\" height=\"210pt\"\n viewBox=\"0.00 0.00 1566.50 210.00\" xmlns=\"http://www.w3.org/2000/svg\" xmlns:xlink=\"http://www.w3.org/1999/xlink\">\n<g id=\"graph0\" class=\"graph\" transform=\"scale(1 1) rotate(0) translate(4 206)\">\n<polygon fill=\"white\" stroke=\"none\" points=\"-4,4 -4,-206 1562.5,-206 1562.5,4 -4,4\"/>\n<!-- 4587571216 -->\n<g id=\"node1\" class=\"node\">\n<title>4587571216</title>\n<polygon fill=\"none\" stroke=\"black\" points=\"326.25,-55.5 326.25,-91.5 540,-91.5 540,-55.5 326.25,-55.5\"/>\n<text text-anchor=\"middle\" x=\"352.62\" y=\"-68.7\" font-family=\"Times,serif\" font-size=\"14.00\">x2*w2</text>\n<polyline fill=\"none\" stroke=\"black\" points=\"379,-56 379,-91.5\"/>\n<text text-anchor=\"middle\" x=\"418.88\" y=\"-68.7\" font-family=\"Times,serif\" font-size=\"14.00\">data 0.0000</text>\n<polyline fill=\"none\" stroke=\"black\" points=\"458.75,-56 458.75,-91.5\"/>\n<text text-anchor=\"middle\" x=\"499.38\" y=\"-68.7\" font-family=\"Times,serif\" font-size=\"14.00\">grad 0.5000</text>\n</g>\n<!-- 4587575952+ -->\n<g id=\"node7\" class=\"node\">\n<title>4587575952+</title>\n<ellipse fill=\"none\" stroke=\"black\" cx=\"605.25\" cy=\"-100.5\" rx=\"27\" ry=\"18\"/>\n<text text-anchor=\"middle\" x=\"605.25\" y=\"-95.45\" font-family=\"Times,serif\" font-size=\"14.00\">+</text>\n</g>\n<!-- 4587571216&#45;&gt;4587575952+ -->\n<g id=\"edge7\" class=\"edge\">\n<title>4587571216&#45;&gt;4587575952+</title>\n<path fill=\"none\" stroke=\"black\" d=\"M540.42,-90.37C549.89,-91.87 559,-93.32 567.21,-94.62\"/>\n<polygon fill=\"black\" stroke=\"black\" points=\"566.63,-98.07 577.05,-96.18 567.72,-91.16 566.63,-98.07\"/>\n</g>\n<!-- 4587571216* -->\n<g id=\"node2\" class=\"node\">\n<title>4587571216*</title>\n<ellipse fill=\"none\" stroke=\"black\" cx=\"261\" cy=\"-73.5\" rx=\"27\" ry=\"18\"/>\n<text text-anchor=\"middle\" x=\"261\" y=\"-68.45\" font-family=\"Times,serif\" font-size=\"14.00\">*</text>\n</g>\n<!-- 4587571216*&#45;&gt;4587571216 -->\n<g id=\"edge1\" class=\"edge\">\n<title>4587571216*&#45;&gt;4587571216</title>\n<path fill=\"none\" stroke=\"black\" d=\"M288.21,-73.5C296,-73.5 305.08,-73.5 314.82,-73.5\"/>\n<polygon fill=\"black\" stroke=\"black\" points=\"314.55,-77 324.55,-73.5 314.55,-70 314.55,-77\"/>\n</g>\n<!-- 4587578448 -->\n<g id=\"node3\" class=\"node\">\n<title>4587578448</title>\n<polygon fill=\"none\" stroke=\"black\" points=\"1.5,-165.5 1.5,-201.5 196.5,-201.5 196.5,-165.5 1.5,-165.5\"/>\n<text text-anchor=\"middle\" x=\"16.25\" y=\"-178.7\" font-family=\"Times,serif\" font-size=\"14.00\">x1</text>\n<polyline fill=\"none\" stroke=\"black\" points=\"31,-166 31,-201.5\"/>\n<text text-anchor=\"middle\" x=\"70.88\" y=\"-178.7\" font-family=\"Times,serif\" font-size=\"14.00\">data 2.0000</text>\n<polyline fill=\"none\" stroke=\"black\" points=\"110.75,-166 110.75,-201.5\"/>\n<text text-anchor=\"middle\" x=\"153.62\" y=\"-178.7\" font-family=\"Times,serif\" font-size=\"14.00\">grad &#45;1.5000</text>\n</g>\n<!-- 4587580560* -->\n<g id=\"node5\" class=\"node\">\n<title>4587580560*</title>\n<ellipse fill=\"none\" stroke=\"black\" cx=\"261\" cy=\"-128.5\" rx=\"27\" ry=\"18\"/>\n<text text-anchor=\"middle\" x=\"261\" y=\"-123.45\" font-family=\"Times,serif\" font-size=\"14.00\">*</text>\n</g>\n<!-- 4587578448&#45;&gt;4587580560* -->\n<g id=\"edge10\" class=\"edge\">\n<title>4587578448&#45;&gt;4587580560*</title>\n<path fill=\"none\" stroke=\"black\" d=\"M172.12,-165.01C180.9,-162.35 189.7,-159.5 198,-156.5 208.09,-152.86 218.82,-148.27 228.47,-143.88\"/>\n<polygon fill=\"black\" stroke=\"black\" points=\"229.86,-147.09 237.45,-139.69 226.9,-140.75 229.86,-147.09\"/>\n</g>\n<!-- 4587580560 -->\n<g id=\"node4\" class=\"node\">\n<title>4587580560</title>\n<polygon fill=\"none\" stroke=\"black\" points=\"324,-110.5 324,-146.5 542.25,-146.5 542.25,-110.5 324,-110.5\"/>\n<text text-anchor=\"middle\" x=\"350.38\" y=\"-123.7\" font-family=\"Times,serif\" font-size=\"14.00\">x1*w1</text>\n<polyline fill=\"none\" stroke=\"black\" points=\"376.75,-111 376.75,-146.5\"/>\n<text text-anchor=\"middle\" x=\"418.88\" y=\"-123.7\" font-family=\"Times,serif\" font-size=\"14.00\">data &#45;6.0000</text>\n<polyline fill=\"none\" stroke=\"black\" points=\"461,-111 461,-146.5\"/>\n<text text-anchor=\"middle\" x=\"501.62\" y=\"-123.7\" font-family=\"Times,serif\" font-size=\"14.00\">grad 0.5000</text>\n</g>\n<!-- 4587580560&#45;&gt;4587575952+ -->\n<g id=\"edge12\" class=\"edge\">\n<title>4587580560&#45;&gt;4587575952+</title>\n<path fill=\"none\" stroke=\"black\" d=\"M542.35,-110.69C551.12,-109.24 559.54,-107.86 567.19,-106.6\"/>\n<polygon fill=\"black\" stroke=\"black\" points=\"567.72,-110.06 577.02,-104.98 566.58,-103.15 567.72,-110.06\"/>\n</g>\n<!-- 4587580560*&#45;&gt;4587580560 -->\n<g id=\"edge2\" class=\"edge\">\n<title>4587580560*&#45;&gt;4587580560</title>\n<path fill=\"none\" stroke=\"black\" d=\"M288.21,-128.5C295.29,-128.5 303.43,-128.5 312.17,-128.5\"/>\n<polygon fill=\"black\" stroke=\"black\" points=\"312.01,-132 322.01,-128.5 312.01,-125 312.01,-132\"/>\n</g>\n<!-- 4587575952 -->\n<g id=\"node6\" class=\"node\">\n<title>4587575952</title>\n<polygon fill=\"none\" stroke=\"black\" points=\"668.25,-82.5 668.25,-118.5 939,-118.5 939,-82.5 668.25,-82.5\"/>\n<text text-anchor=\"middle\" x=\"720.88\" y=\"-95.7\" font-family=\"Times,serif\" font-size=\"14.00\">x1*w1 + x2*w2</text>\n<polyline fill=\"none\" stroke=\"black\" points=\"773.5,-83 773.5,-118.5\"/>\n<text text-anchor=\"middle\" x=\"815.62\" y=\"-95.7\" font-family=\"Times,serif\" font-size=\"14.00\">data &#45;6.0000</text>\n<polyline fill=\"none\" stroke=\"black\" points=\"857.75,-83 857.75,-118.5\"/>\n<text text-anchor=\"middle\" x=\"898.38\" y=\"-95.7\" font-family=\"Times,serif\" font-size=\"14.00\">grad 0.5000</text>\n</g>\n<!-- 4587578832+ -->\n<g id=\"node15\" class=\"node\">\n<title>4587578832+</title>\n<ellipse fill=\"none\" stroke=\"black\" cx=\"1002\" cy=\"-127.5\" rx=\"27\" ry=\"18\"/>\n<text text-anchor=\"middle\" x=\"1002\" y=\"-122.45\" font-family=\"Times,serif\" font-size=\"14.00\">+</text>\n</g>\n<!-- 4587575952&#45;&gt;4587578832+ -->\n<g id=\"edge6\" class=\"edge\">\n<title>4587575952&#45;&gt;4587578832+</title>\n<path fill=\"none\" stroke=\"black\" d=\"M939.14,-118.99C947.95,-120.21 956.31,-121.36 963.87,-122.4\"/>\n<polygon fill=\"black\" stroke=\"black\" points=\"963.16,-125.83 973.55,-123.73 964.12,-118.9 963.16,-125.83\"/>\n</g>\n<!-- 4587575952+&#45;&gt;4587575952 -->\n<g id=\"edge3\" class=\"edge\">\n<title>4587575952+&#45;&gt;4587575952</title>\n<path fill=\"none\" stroke=\"black\" d=\"M632.73,-100.5C639.73,-100.5 647.79,-100.5 656.52,-100.5\"/>\n<polygon fill=\"black\" stroke=\"black\" points=\"656.39,-104 666.39,-100.5 656.39,-97 656.39,-104\"/>\n</g>\n<!-- 4587580048 -->\n<g id=\"node8\" class=\"node\">\n<title>4587580048</title>\n<polygon fill=\"none\" stroke=\"black\" points=\"0,-110.5 0,-146.5 198,-146.5 198,-110.5 0,-110.5\"/>\n<text text-anchor=\"middle\" x=\"16.25\" y=\"-123.7\" font-family=\"Times,serif\" font-size=\"14.00\">w1</text>\n<polyline fill=\"none\" stroke=\"black\" points=\"32.5,-111 32.5,-146.5\"/>\n<text text-anchor=\"middle\" x=\"74.62\" y=\"-123.7\" font-family=\"Times,serif\" font-size=\"14.00\">data &#45;3.0000</text>\n<polyline fill=\"none\" stroke=\"black\" points=\"116.75,-111 116.75,-146.5\"/>\n<text text-anchor=\"middle\" x=\"157.38\" y=\"-123.7\" font-family=\"Times,serif\" font-size=\"14.00\">grad 1.0000</text>\n</g>\n<!-- 4587580048&#45;&gt;4587580560* -->\n<g id=\"edge13\" class=\"edge\">\n<title>4587580048&#45;&gt;4587580560*</title>\n<path fill=\"none\" stroke=\"black\" d=\"M198.14,-128.5C206.61,-128.5 214.8,-128.5 222.29,-128.5\"/>\n<polygon fill=\"black\" stroke=\"black\" points=\"222.29,-132 232.29,-128.5 222.29,-125 222.29,-132\"/>\n</g>\n<!-- 4587580112 -->\n<g id=\"node9\" class=\"node\">\n<title>4587580112</title>\n<polygon fill=\"none\" stroke=\"black\" points=\"1374.75,-109.5 1374.75,-145.5 1558.5,-145.5 1558.5,-109.5 1374.75,-109.5\"/>\n<text text-anchor=\"middle\" x=\"1386.12\" y=\"-122.7\" font-family=\"Times,serif\" font-size=\"14.00\">o</text>\n<polyline fill=\"none\" stroke=\"black\" points=\"1397.5,-110 1397.5,-145.5\"/>\n<text text-anchor=\"middle\" x=\"1437.38\" y=\"-122.7\" font-family=\"Times,serif\" font-size=\"14.00\">data 0.7071</text>\n<polyline fill=\"none\" stroke=\"black\" points=\"1477.25,-110 1477.25,-145.5\"/>\n<text text-anchor=\"middle\" x=\"1517.88\" y=\"-122.7\" font-family=\"Times,serif\" font-size=\"14.00\">grad 1.0000</text>\n</g>\n<!-- 4587580112tanh -->\n<g id=\"node10\" class=\"node\">\n<title>4587580112tanh</title>\n<ellipse fill=\"none\" stroke=\"black\" cx=\"1311.75\" cy=\"-127.5\" rx=\"27\" ry=\"18\"/>\n<text text-anchor=\"middle\" x=\"1311.75\" y=\"-122.45\" font-family=\"Times,serif\" font-size=\"14.00\">tanh</text>\n</g>\n<!-- 4587580112tanh&#45;&gt;4587580112 -->\n<g id=\"edge4\" class=\"edge\">\n<title>4587580112tanh&#45;&gt;4587580112</title>\n<path fill=\"none\" stroke=\"black\" d=\"M1339.03,-127.5C1346.17,-127.5 1354.36,-127.5 1363.07,-127.5\"/>\n<polygon fill=\"black\" stroke=\"black\" points=\"1362.81,-131 1372.81,-127.5 1362.81,-124 1362.81,-131\"/>\n</g>\n<!-- 4587578064 -->\n<g id=\"node11\" class=\"node\">\n<title>4587578064</title>\n<polygon fill=\"none\" stroke=\"black\" points=\"2.25,-55.5 2.25,-91.5 195.75,-91.5 195.75,-55.5 2.25,-55.5\"/>\n<text text-anchor=\"middle\" x=\"18.5\" y=\"-68.7\" font-family=\"Times,serif\" font-size=\"14.00\">w2</text>\n<polyline fill=\"none\" stroke=\"black\" points=\"34.75,-56 34.75,-91.5\"/>\n<text text-anchor=\"middle\" x=\"74.62\" y=\"-68.7\" font-family=\"Times,serif\" font-size=\"14.00\">data 1.0000</text>\n<polyline fill=\"none\" stroke=\"black\" points=\"114.5,-56 114.5,-91.5\"/>\n<text text-anchor=\"middle\" x=\"155.12\" y=\"-68.7\" font-family=\"Times,serif\" font-size=\"14.00\">grad 0.0000</text>\n</g>\n<!-- 4587578064&#45;&gt;4587571216* -->\n<g id=\"edge14\" class=\"edge\">\n<title>4587578064&#45;&gt;4587571216*</title>\n<path fill=\"none\" stroke=\"black\" d=\"M195.84,-73.5C205.14,-73.5 214.15,-73.5 222.32,-73.5\"/>\n<polygon fill=\"black\" stroke=\"black\" points=\"222.13,-77 232.13,-73.5 222.13,-70 222.13,-77\"/>\n</g>\n<!-- 4587582224 -->\n<g id=\"node12\" class=\"node\">\n<title>4587582224</title>\n<polygon fill=\"none\" stroke=\"black\" points=\"711.75,-137.5 711.75,-173.5 895.5,-173.5 895.5,-137.5 711.75,-137.5\"/>\n<text text-anchor=\"middle\" x=\"723.12\" y=\"-150.7\" font-family=\"Times,serif\" font-size=\"14.00\">b</text>\n<polyline fill=\"none\" stroke=\"black\" points=\"734.5,-138 734.5,-173.5\"/>\n<text text-anchor=\"middle\" x=\"774.38\" y=\"-150.7\" font-family=\"Times,serif\" font-size=\"14.00\">data 6.8814</text>\n<polyline fill=\"none\" stroke=\"black\" points=\"814.25,-138 814.25,-173.5\"/>\n<text text-anchor=\"middle\" x=\"854.88\" y=\"-150.7\" font-family=\"Times,serif\" font-size=\"14.00\">grad 0.5000</text>\n</g>\n<!-- 4587582224&#45;&gt;4587578832+ -->\n<g id=\"edge8\" class=\"edge\">\n<title>4587582224&#45;&gt;4587578832+</title>\n<path fill=\"none\" stroke=\"black\" d=\"M895.91,-142.48C919.97,-139.05 944.58,-135.55 963.93,-132.79\"/>\n<polygon fill=\"black\" stroke=\"black\" points=\"964.34,-136.26 973.75,-131.39 963.35,-129.33 964.34,-136.26\"/>\n</g>\n<!-- 4587578704 -->\n<g id=\"node13\" class=\"node\">\n<title>4587578704</title>\n<polygon fill=\"none\" stroke=\"black\" points=\"3.75,-0.5 3.75,-36.5 194.25,-36.5 194.25,-0.5 3.75,-0.5\"/>\n<text text-anchor=\"middle\" x=\"18.5\" y=\"-13.7\" font-family=\"Times,serif\" font-size=\"14.00\">x2</text>\n<polyline fill=\"none\" stroke=\"black\" points=\"33.25,-1 33.25,-36.5\"/>\n<text text-anchor=\"middle\" x=\"73.12\" y=\"-13.7\" font-family=\"Times,serif\" font-size=\"14.00\">data 0.0000</text>\n<polyline fill=\"none\" stroke=\"black\" points=\"113,-1 113,-36.5\"/>\n<text text-anchor=\"middle\" x=\"153.62\" y=\"-13.7\" font-family=\"Times,serif\" font-size=\"14.00\">grad 0.5000</text>\n</g>\n<!-- 4587578704&#45;&gt;4587571216* -->\n<g id=\"edge11\" class=\"edge\">\n<title>4587578704&#45;&gt;4587571216*</title>\n<path fill=\"none\" stroke=\"black\" d=\"M168.91,-36.94C178.74,-39.93 188.67,-43.15 198,-46.5 207.96,-50.07 218.58,-54.47 228.18,-58.68\"/>\n<polygon fill=\"black\" stroke=\"black\" points=\"226.54,-61.78 237.1,-62.67 229.4,-55.39 226.54,-61.78\"/>\n</g>\n<!-- 4587578832 -->\n<g id=\"node14\" class=\"node\">\n<title>4587578832</title>\n<polygon fill=\"none\" stroke=\"black\" points=\"1065,-109.5 1065,-145.5 1248.75,-145.5 1248.75,-109.5 1065,-109.5\"/>\n<text text-anchor=\"middle\" x=\"1076.38\" y=\"-122.7\" font-family=\"Times,serif\" font-size=\"14.00\">n</text>\n<polyline fill=\"none\" stroke=\"black\" points=\"1087.75,-110 1087.75,-145.5\"/>\n<text text-anchor=\"middle\" x=\"1127.62\" y=\"-122.7\" font-family=\"Times,serif\" font-size=\"14.00\">data 0.8814</text>\n<polyline fill=\"none\" stroke=\"black\" points=\"1167.5,-110 1167.5,-145.5\"/>\n<text text-anchor=\"middle\" x=\"1208.12\" y=\"-122.7\" font-family=\"Times,serif\" font-size=\"14.00\">grad 0.5000</text>\n</g>\n<!-- 4587578832&#45;&gt;4587580112tanh -->\n<g id=\"edge9\" class=\"edge\">\n<title>4587578832&#45;&gt;4587580112tanh</title>\n<path fill=\"none\" stroke=\"black\" d=\"M1249.01,-127.5C1257.39,-127.5 1265.52,-127.5 1272.98,-127.5\"/>\n<polygon fill=\"black\" stroke=\"black\" points=\"1272.95,-131 1282.95,-127.5 1272.95,-124 1272.95,-131\"/>\n</g>\n<!-- 4587578832+&#45;&gt;4587578832 -->\n<g id=\"edge5\" class=\"edge\">\n<title>4587578832+&#45;&gt;4587578832</title>\n<path fill=\"none\" stroke=\"black\" d=\"M1029.28,-127.5C1036.42,-127.5 1044.61,-127.5 1053.32,-127.5\"/>\n<polygon fill=\"black\" stroke=\"black\" points=\"1053.06,-131 1063.06,-127.5 1053.06,-124 1053.06,-131\"/>\n</g>\n</g>\n</svg>\n",
      "text/plain": "<graphviz.graphs.Digraph at 0x11170e410>"
     },
     "execution_count": 8,
     "metadata": {},
     "output_type": "execute_result"
    }
   ],
   "source": [
    "draw_dot(o)"
   ],
   "metadata": {
    "collapsed": false,
    "ExecuteTime": {
     "end_time": "2025-02-03T16:39:46.251530Z",
     "start_time": "2025-02-03T16:39:45.619374Z"
    }
   },
   "id": "b5347d1e85b6d5ba",
   "execution_count": 8
  },
  {
   "cell_type": "code",
   "outputs": [
    {
     "data": {
      "image/svg+xml": "<?xml version=\"1.0\" encoding=\"UTF-8\" standalone=\"no\"?>\n<!DOCTYPE svg PUBLIC \"-//W3C//DTD SVG 1.1//EN\"\n \"http://www.w3.org/Graphics/SVG/1.1/DTD/svg11.dtd\">\n<!-- Generated by graphviz version 12.2.1 (20241206.2353)\n -->\n<!-- Pages: 1 -->\n<svg width=\"2929pt\" height=\"210pt\"\n viewBox=\"0.00 0.00 2929.25 210.00\" xmlns=\"http://www.w3.org/2000/svg\" xmlns:xlink=\"http://www.w3.org/1999/xlink\">\n<g id=\"graph0\" class=\"graph\" transform=\"scale(1 1) rotate(0) translate(4 206)\">\n<polygon fill=\"white\" stroke=\"none\" points=\"-4,4 -4,-206 2925.25,-206 2925.25,4 -4,4\"/>\n<!-- 4587736464 -->\n<g id=\"node1\" class=\"node\">\n<title>4587736464</title>\n<polygon fill=\"none\" stroke=\"black\" points=\"1681.5,-136.5 1681.5,-172.5 1866.75,-172.5 1866.75,-136.5 1681.5,-136.5\"/>\n<text text-anchor=\"middle\" x=\"1691.38\" y=\"-149.7\" font-family=\"Times,serif\" font-size=\"14.00\"> </text>\n<polyline fill=\"none\" stroke=\"black\" points=\"1701.25,-137 1701.25,-172.5\"/>\n<text text-anchor=\"middle\" x=\"1741.12\" y=\"-149.7\" font-family=\"Times,serif\" font-size=\"14.00\">data 1.0000</text>\n<polyline fill=\"none\" stroke=\"black\" points=\"1781,-137 1781,-172.5\"/>\n<text text-anchor=\"middle\" x=\"1823.88\" y=\"-149.7\" font-family=\"Times,serif\" font-size=\"14.00\">grad &#45;0.1036</text>\n</g>\n<!-- 4587748432+ -->\n<g id=\"node5\" class=\"node\">\n<title>4587748432+</title>\n<ellipse fill=\"none\" stroke=\"black\" cx=\"1929.75\" cy=\"-126.5\" rx=\"27\" ry=\"18\"/>\n<text text-anchor=\"middle\" x=\"1929.75\" y=\"-121.45\" font-family=\"Times,serif\" font-size=\"14.00\">+</text>\n</g>\n<!-- 4587736464&#45;&gt;4587748432+ -->\n<g id=\"edge12\" class=\"edge\">\n<title>4587736464&#45;&gt;4587748432+</title>\n<path fill=\"none\" stroke=\"black\" d=\"M1867.15,-137.73C1875.89,-136.13 1884.36,-134.59 1892.08,-133.18\"/>\n<polygon fill=\"black\" stroke=\"black\" points=\"1892.45,-136.67 1901.66,-131.44 1891.19,-129.79 1892.45,-136.67\"/>\n</g>\n<!-- 4587747920 -->\n<g id=\"node2\" class=\"node\">\n<title>4587747920</title>\n<polygon fill=\"none\" stroke=\"black\" points=\"0,-55.5 0,-91.5 198,-91.5 198,-55.5 0,-55.5\"/>\n<text text-anchor=\"middle\" x=\"16.25\" y=\"-68.7\" font-family=\"Times,serif\" font-size=\"14.00\">w1</text>\n<polyline fill=\"none\" stroke=\"black\" points=\"32.5,-56 32.5,-91.5\"/>\n<text text-anchor=\"middle\" x=\"74.62\" y=\"-68.7\" font-family=\"Times,serif\" font-size=\"14.00\">data &#45;3.0000</text>\n<polyline fill=\"none\" stroke=\"black\" points=\"116.75,-56 116.75,-91.5\"/>\n<text text-anchor=\"middle\" x=\"157.38\" y=\"-68.7\" font-family=\"Times,serif\" font-size=\"14.00\">grad 1.0000</text>\n</g>\n<!-- 4587749200* -->\n<g id=\"node20\" class=\"node\">\n<title>4587749200*</title>\n<ellipse fill=\"none\" stroke=\"black\" cx=\"261\" cy=\"-73.5\" rx=\"27\" ry=\"18\"/>\n<text text-anchor=\"middle\" x=\"261\" y=\"-68.45\" font-family=\"Times,serif\" font-size=\"14.00\">*</text>\n</g>\n<!-- 4587747920&#45;&gt;4587749200* -->\n<g id=\"edge13\" class=\"edge\">\n<title>4587747920&#45;&gt;4587749200*</title>\n<path fill=\"none\" stroke=\"black\" d=\"M198.14,-73.5C206.61,-73.5 214.8,-73.5 222.29,-73.5\"/>\n<polygon fill=\"black\" stroke=\"black\" points=\"222.29,-77 232.29,-73.5 222.29,-70 222.29,-77\"/>\n</g>\n<!-- 4587738704 -->\n<g id=\"node3\" class=\"node\">\n<title>4587738704</title>\n<polygon fill=\"none\" stroke=\"black\" points=\"711.75,-137.5 711.75,-173.5 895.5,-173.5 895.5,-137.5 711.75,-137.5\"/>\n<text text-anchor=\"middle\" x=\"723.12\" y=\"-150.7\" font-family=\"Times,serif\" font-size=\"14.00\">b</text>\n<polyline fill=\"none\" stroke=\"black\" points=\"734.5,-138 734.5,-173.5\"/>\n<text text-anchor=\"middle\" x=\"774.38\" y=\"-150.7\" font-family=\"Times,serif\" font-size=\"14.00\">data 6.8814</text>\n<polyline fill=\"none\" stroke=\"black\" points=\"814.25,-138 814.25,-173.5\"/>\n<text text-anchor=\"middle\" x=\"854.88\" y=\"-150.7\" font-family=\"Times,serif\" font-size=\"14.00\">grad 0.5000</text>\n</g>\n<!-- 4587748560+ -->\n<g id=\"node8\" class=\"node\">\n<title>4587748560+</title>\n<ellipse fill=\"none\" stroke=\"black\" cx=\"1002\" cy=\"-127.5\" rx=\"27\" ry=\"18\"/>\n<text text-anchor=\"middle\" x=\"1002\" y=\"-122.45\" font-family=\"Times,serif\" font-size=\"14.00\">+</text>\n</g>\n<!-- 4587738704&#45;&gt;4587748560+ -->\n<g id=\"edge27\" class=\"edge\">\n<title>4587738704&#45;&gt;4587748560+</title>\n<path fill=\"none\" stroke=\"black\" d=\"M895.91,-142.48C919.97,-139.05 944.58,-135.55 963.93,-132.79\"/>\n<polygon fill=\"black\" stroke=\"black\" points=\"964.34,-136.26 973.75,-131.39 963.35,-129.33 964.34,-136.26\"/>\n</g>\n<!-- 4587748432 -->\n<g id=\"node4\" class=\"node\">\n<title>4587748432</title>\n<polygon fill=\"none\" stroke=\"black\" points=\"1992.75,-108.5 1992.75,-144.5 2178,-144.5 2178,-108.5 1992.75,-108.5\"/>\n<text text-anchor=\"middle\" x=\"2002.62\" y=\"-121.7\" font-family=\"Times,serif\" font-size=\"14.00\"> </text>\n<polyline fill=\"none\" stroke=\"black\" points=\"2012.5,-109 2012.5,-144.5\"/>\n<text text-anchor=\"middle\" x=\"2052.38\" y=\"-121.7\" font-family=\"Times,serif\" font-size=\"14.00\">data 6.8284</text>\n<polyline fill=\"none\" stroke=\"black\" points=\"2092.25,-109 2092.25,-144.5\"/>\n<text text-anchor=\"middle\" x=\"2135.12\" y=\"-121.7\" font-family=\"Times,serif\" font-size=\"14.00\">grad &#45;0.1036</text>\n</g>\n<!-- 4587740496**&#45;1 -->\n<g id=\"node22\" class=\"node\">\n<title>4587740496**&#45;1</title>\n<ellipse fill=\"none\" stroke=\"black\" cx=\"2304.38\" cy=\"-126.5\" rx=\"27.81\" ry=\"18\"/>\n<text text-anchor=\"middle\" x=\"2304.38\" y=\"-121.45\" font-family=\"Times,serif\" font-size=\"14.00\">**&#45;1</text>\n</g>\n<!-- 4587748432&#45;&gt;4587740496**&#45;1 -->\n<g id=\"edge15\" class=\"edge\">\n<title>4587748432&#45;&gt;4587740496**&#45;1</title>\n<path fill=\"none\" stroke=\"black\" d=\"M2178.4,-126.5C2208.64,-126.5 2240.63,-126.5 2264.67,-126.5\"/>\n<polygon fill=\"black\" stroke=\"black\" points=\"2264.62,-130 2274.62,-126.5 2264.62,-123 2264.62,-130\"/>\n</g>\n<!-- 4587748432+&#45;&gt;4587748432 -->\n<g id=\"edge1\" class=\"edge\">\n<title>4587748432+&#45;&gt;4587748432</title>\n<path fill=\"none\" stroke=\"black\" d=\"M1957.16,-126.5C1964.2,-126.5 1972.25,-126.5 1980.8,-126.5\"/>\n<polygon fill=\"black\" stroke=\"black\" points=\"1980.79,-130 1990.79,-126.5 1980.79,-123 1980.79,-130\"/>\n</g>\n<!-- 4587746448 -->\n<g id=\"node6\" class=\"node\">\n<title>4587746448</title>\n<polygon fill=\"none\" stroke=\"black\" points=\"1681.5,-26.5 1681.5,-62.5 1866.75,-62.5 1866.75,-26.5 1681.5,-26.5\"/>\n<text text-anchor=\"middle\" x=\"1691.38\" y=\"-39.7\" font-family=\"Times,serif\" font-size=\"14.00\"> </text>\n<polyline fill=\"none\" stroke=\"black\" points=\"1701.25,-27 1701.25,-62.5\"/>\n<text text-anchor=\"middle\" x=\"1743.38\" y=\"-39.7\" font-family=\"Times,serif\" font-size=\"14.00\">data &#45;1.0000</text>\n<polyline fill=\"none\" stroke=\"black\" points=\"1785.5,-27 1785.5,-62.5\"/>\n<text text-anchor=\"middle\" x=\"1826.12\" y=\"-39.7\" font-family=\"Times,serif\" font-size=\"14.00\">grad 0.1464</text>\n</g>\n<!-- 4587748240+ -->\n<g id=\"node24\" class=\"node\">\n<title>4587748240+</title>\n<ellipse fill=\"none\" stroke=\"black\" cx=\"1929.75\" cy=\"-71.5\" rx=\"27\" ry=\"18\"/>\n<text text-anchor=\"middle\" x=\"1929.75\" y=\"-66.45\" font-family=\"Times,serif\" font-size=\"14.00\">+</text>\n</g>\n<!-- 4587746448&#45;&gt;4587748240+ -->\n<g id=\"edge26\" class=\"edge\">\n<title>4587746448&#45;&gt;4587748240+</title>\n<path fill=\"none\" stroke=\"black\" d=\"M1867.15,-60.67C1875.89,-62.21 1884.36,-63.7 1892.08,-65.05\"/>\n<polygon fill=\"black\" stroke=\"black\" points=\"1891.2,-68.45 1901.66,-66.74 1892.41,-61.56 1891.2,-68.45\"/>\n</g>\n<!-- 4587748560 -->\n<g id=\"node7\" class=\"node\">\n<title>4587748560</title>\n<polygon fill=\"none\" stroke=\"black\" points=\"1065,-109.5 1065,-145.5 1248.75,-145.5 1248.75,-109.5 1065,-109.5\"/>\n<text text-anchor=\"middle\" x=\"1076.38\" y=\"-122.7\" font-family=\"Times,serif\" font-size=\"14.00\">n</text>\n<polyline fill=\"none\" stroke=\"black\" points=\"1087.75,-110 1087.75,-145.5\"/>\n<text text-anchor=\"middle\" x=\"1127.62\" y=\"-122.7\" font-family=\"Times,serif\" font-size=\"14.00\">data 0.8814</text>\n<polyline fill=\"none\" stroke=\"black\" points=\"1167.5,-110 1167.5,-145.5\"/>\n<text text-anchor=\"middle\" x=\"1208.12\" y=\"-122.7\" font-family=\"Times,serif\" font-size=\"14.00\">grad 0.5000</text>\n</g>\n<!-- 4587746256* -->\n<g id=\"node28\" class=\"node\">\n<title>4587746256*</title>\n<ellipse fill=\"none\" stroke=\"black\" cx=\"1311.75\" cy=\"-99.5\" rx=\"27\" ry=\"18\"/>\n<text text-anchor=\"middle\" x=\"1311.75\" y=\"-94.45\" font-family=\"Times,serif\" font-size=\"14.00\">*</text>\n</g>\n<!-- 4587748560&#45;&gt;4587746256* -->\n<g id=\"edge19\" class=\"edge\">\n<title>4587748560&#45;&gt;4587746256*</title>\n<path fill=\"none\" stroke=\"black\" d=\"M1249.01,-110.81C1257.84,-109.19 1266.4,-107.62 1274.19,-106.2\"/>\n<polygon fill=\"black\" stroke=\"black\" points=\"1274.67,-109.67 1283.88,-104.42 1273.41,-102.78 1274.67,-109.67\"/>\n</g>\n<!-- 4587748560+&#45;&gt;4587748560 -->\n<g id=\"edge2\" class=\"edge\">\n<title>4587748560+&#45;&gt;4587748560</title>\n<path fill=\"none\" stroke=\"black\" d=\"M1029.28,-127.5C1036.42,-127.5 1044.61,-127.5 1053.32,-127.5\"/>\n<polygon fill=\"black\" stroke=\"black\" points=\"1053.06,-131 1063.06,-127.5 1053.06,-124 1053.06,-131\"/>\n</g>\n<!-- 4587744976 -->\n<g id=\"node9\" class=\"node\">\n<title>4587744976</title>\n<polygon fill=\"none\" stroke=\"black\" points=\"326.25,-110.5 326.25,-146.5 540,-146.5 540,-110.5 326.25,-110.5\"/>\n<text text-anchor=\"middle\" x=\"352.62\" y=\"-123.7\" font-family=\"Times,serif\" font-size=\"14.00\">x2*w2</text>\n<polyline fill=\"none\" stroke=\"black\" points=\"379,-111 379,-146.5\"/>\n<text text-anchor=\"middle\" x=\"418.88\" y=\"-123.7\" font-family=\"Times,serif\" font-size=\"14.00\">data 0.0000</text>\n<polyline fill=\"none\" stroke=\"black\" points=\"458.75,-111 458.75,-146.5\"/>\n<text text-anchor=\"middle\" x=\"499.38\" y=\"-123.7\" font-family=\"Times,serif\" font-size=\"14.00\">grad 0.5000</text>\n</g>\n<!-- 4587748816+ -->\n<g id=\"node13\" class=\"node\">\n<title>4587748816+</title>\n<ellipse fill=\"none\" stroke=\"black\" cx=\"605.25\" cy=\"-100.5\" rx=\"27\" ry=\"18\"/>\n<text text-anchor=\"middle\" x=\"605.25\" y=\"-95.45\" font-family=\"Times,serif\" font-size=\"14.00\">+</text>\n</g>\n<!-- 4587744976&#45;&gt;4587748816+ -->\n<g id=\"edge23\" class=\"edge\">\n<title>4587744976&#45;&gt;4587748816+</title>\n<path fill=\"none\" stroke=\"black\" d=\"M540.42,-111.01C549.89,-109.45 559,-107.95 567.21,-106.6\"/>\n<polygon fill=\"black\" stroke=\"black\" points=\"567.75,-110.05 577.05,-104.98 566.62,-103.15 567.75,-110.05\"/>\n</g>\n<!-- 4587744976* -->\n<g id=\"node10\" class=\"node\">\n<title>4587744976*</title>\n<ellipse fill=\"none\" stroke=\"black\" cx=\"261\" cy=\"-128.5\" rx=\"27\" ry=\"18\"/>\n<text text-anchor=\"middle\" x=\"261\" y=\"-123.45\" font-family=\"Times,serif\" font-size=\"14.00\">*</text>\n</g>\n<!-- 4587744976*&#45;&gt;4587744976 -->\n<g id=\"edge3\" class=\"edge\">\n<title>4587744976*&#45;&gt;4587744976</title>\n<path fill=\"none\" stroke=\"black\" d=\"M288.21,-128.5C296,-128.5 305.08,-128.5 314.82,-128.5\"/>\n<polygon fill=\"black\" stroke=\"black\" points=\"314.55,-132 324.55,-128.5 314.55,-125 314.55,-132\"/>\n</g>\n<!-- 4587747536 -->\n<g id=\"node11\" class=\"node\">\n<title>4587747536</title>\n<polygon fill=\"none\" stroke=\"black\" points=\"1.5,-0.5 1.5,-36.5 196.5,-36.5 196.5,-0.5 1.5,-0.5\"/>\n<text text-anchor=\"middle\" x=\"16.25\" y=\"-13.7\" font-family=\"Times,serif\" font-size=\"14.00\">x1</text>\n<polyline fill=\"none\" stroke=\"black\" points=\"31,-1 31,-36.5\"/>\n<text text-anchor=\"middle\" x=\"70.88\" y=\"-13.7\" font-family=\"Times,serif\" font-size=\"14.00\">data 2.0000</text>\n<polyline fill=\"none\" stroke=\"black\" points=\"110.75,-1 110.75,-36.5\"/>\n<text text-anchor=\"middle\" x=\"153.62\" y=\"-13.7\" font-family=\"Times,serif\" font-size=\"14.00\">grad &#45;1.5000</text>\n</g>\n<!-- 4587747536&#45;&gt;4587749200* -->\n<g id=\"edge20\" class=\"edge\">\n<title>4587747536&#45;&gt;4587749200*</title>\n<path fill=\"none\" stroke=\"black\" d=\"M172.12,-36.99C180.9,-39.65 189.7,-42.5 198,-45.5 208.09,-49.14 218.82,-53.73 228.47,-58.12\"/>\n<polygon fill=\"black\" stroke=\"black\" points=\"226.9,-61.25 237.45,-62.31 229.86,-54.91 226.9,-61.25\"/>\n</g>\n<!-- 4587748816 -->\n<g id=\"node12\" class=\"node\">\n<title>4587748816</title>\n<polygon fill=\"none\" stroke=\"black\" points=\"668.25,-82.5 668.25,-118.5 939,-118.5 939,-82.5 668.25,-82.5\"/>\n<text text-anchor=\"middle\" x=\"720.88\" y=\"-95.7\" font-family=\"Times,serif\" font-size=\"14.00\">x1*w1 + x2*w2</text>\n<polyline fill=\"none\" stroke=\"black\" points=\"773.5,-83 773.5,-118.5\"/>\n<text text-anchor=\"middle\" x=\"815.62\" y=\"-95.7\" font-family=\"Times,serif\" font-size=\"14.00\">data &#45;6.0000</text>\n<polyline fill=\"none\" stroke=\"black\" points=\"857.75,-83 857.75,-118.5\"/>\n<text text-anchor=\"middle\" x=\"898.38\" y=\"-95.7\" font-family=\"Times,serif\" font-size=\"14.00\">grad 0.5000</text>\n</g>\n<!-- 4587748816&#45;&gt;4587748560+ -->\n<g id=\"edge22\" class=\"edge\">\n<title>4587748816&#45;&gt;4587748560+</title>\n<path fill=\"none\" stroke=\"black\" d=\"M939.14,-118.99C947.95,-120.21 956.31,-121.36 963.87,-122.4\"/>\n<polygon fill=\"black\" stroke=\"black\" points=\"963.16,-125.83 973.55,-123.73 964.12,-118.9 963.16,-125.83\"/>\n</g>\n<!-- 4587748816+&#45;&gt;4587748816 -->\n<g id=\"edge4\" class=\"edge\">\n<title>4587748816+&#45;&gt;4587748816</title>\n<path fill=\"none\" stroke=\"black\" d=\"M632.73,-100.5C639.73,-100.5 647.79,-100.5 656.52,-100.5\"/>\n<polygon fill=\"black\" stroke=\"black\" points=\"656.39,-104 666.39,-100.5 656.39,-97 656.39,-104\"/>\n</g>\n<!-- 4587749328 -->\n<g id=\"node14\" class=\"node\">\n<title>4587749328</title>\n<polygon fill=\"none\" stroke=\"black\" points=\"2737.5,-80.5 2737.5,-116.5 2921.25,-116.5 2921.25,-80.5 2737.5,-80.5\"/>\n<text text-anchor=\"middle\" x=\"2748.88\" y=\"-93.7\" font-family=\"Times,serif\" font-size=\"14.00\">o</text>\n<polyline fill=\"none\" stroke=\"black\" points=\"2760.25,-81 2760.25,-116.5\"/>\n<text text-anchor=\"middle\" x=\"2800.12\" y=\"-93.7\" font-family=\"Times,serif\" font-size=\"14.00\">data 0.7071</text>\n<polyline fill=\"none\" stroke=\"black\" points=\"2840,-81 2840,-116.5\"/>\n<text text-anchor=\"middle\" x=\"2880.62\" y=\"-93.7\" font-family=\"Times,serif\" font-size=\"14.00\">grad 1.0000</text>\n</g>\n<!-- 4587749328* -->\n<g id=\"node15\" class=\"node\">\n<title>4587749328*</title>\n<ellipse fill=\"none\" stroke=\"black\" cx=\"2674.5\" cy=\"-98.5\" rx=\"27\" ry=\"18\"/>\n<text text-anchor=\"middle\" x=\"2674.5\" y=\"-93.45\" font-family=\"Times,serif\" font-size=\"14.00\">*</text>\n</g>\n<!-- 4587749328*&#45;&gt;4587749328 -->\n<g id=\"edge5\" class=\"edge\">\n<title>4587749328*&#45;&gt;4587749328</title>\n<path fill=\"none\" stroke=\"black\" d=\"M2701.78,-98.5C2708.92,-98.5 2717.11,-98.5 2725.82,-98.5\"/>\n<polygon fill=\"black\" stroke=\"black\" points=\"2725.56,-102 2735.56,-98.5 2725.56,-95 2725.56,-102\"/>\n</g>\n<!-- 4578139920 -->\n<g id=\"node16\" class=\"node\">\n<title>4578139920</title>\n<polygon fill=\"none\" stroke=\"black\" points=\"1066.5,-54.5 1066.5,-90.5 1247.25,-90.5 1247.25,-54.5 1066.5,-54.5\"/>\n<text text-anchor=\"middle\" x=\"1076.38\" y=\"-67.7\" font-family=\"Times,serif\" font-size=\"14.00\"> </text>\n<polyline fill=\"none\" stroke=\"black\" points=\"1086.25,-55 1086.25,-90.5\"/>\n<text text-anchor=\"middle\" x=\"1126.12\" y=\"-67.7\" font-family=\"Times,serif\" font-size=\"14.00\">data 2.0000</text>\n<polyline fill=\"none\" stroke=\"black\" points=\"1166,-55 1166,-90.5\"/>\n<text text-anchor=\"middle\" x=\"1206.62\" y=\"-67.7\" font-family=\"Times,serif\" font-size=\"14.00\">grad 0.2203</text>\n</g>\n<!-- 4578139920&#45;&gt;4587746256* -->\n<g id=\"edge24\" class=\"edge\">\n<title>4578139920&#45;&gt;4587746256*</title>\n<path fill=\"none\" stroke=\"black\" d=\"M1247.69,-88.36C1256.94,-90 1265.93,-91.58 1274.08,-93.02\"/>\n<polygon fill=\"black\" stroke=\"black\" points=\"1273.41,-96.46 1283.87,-94.75 1274.63,-89.57 1273.41,-96.46\"/>\n</g>\n<!-- 4587749136 -->\n<g id=\"node17\" class=\"node\">\n<title>4587749136</title>\n<polygon fill=\"none\" stroke=\"black\" points=\"3.75,-165.5 3.75,-201.5 194.25,-201.5 194.25,-165.5 3.75,-165.5\"/>\n<text text-anchor=\"middle\" x=\"18.5\" y=\"-178.7\" font-family=\"Times,serif\" font-size=\"14.00\">x2</text>\n<polyline fill=\"none\" stroke=\"black\" points=\"33.25,-166 33.25,-201.5\"/>\n<text text-anchor=\"middle\" x=\"73.12\" y=\"-178.7\" font-family=\"Times,serif\" font-size=\"14.00\">data 0.0000</text>\n<polyline fill=\"none\" stroke=\"black\" points=\"113,-166 113,-201.5\"/>\n<text text-anchor=\"middle\" x=\"153.62\" y=\"-178.7\" font-family=\"Times,serif\" font-size=\"14.00\">grad 0.5000</text>\n</g>\n<!-- 4587749136&#45;&gt;4587744976* -->\n<g id=\"edge14\" class=\"edge\">\n<title>4587749136&#45;&gt;4587744976*</title>\n<path fill=\"none\" stroke=\"black\" d=\"M172.12,-165.01C180.9,-162.35 189.7,-159.5 198,-156.5 208.09,-152.86 218.82,-148.27 228.47,-143.88\"/>\n<polygon fill=\"black\" stroke=\"black\" points=\"229.86,-147.09 237.45,-139.69 226.9,-140.75 229.86,-147.09\"/>\n</g>\n<!-- 4587741008 -->\n<g id=\"node18\" class=\"node\">\n<title>4587741008</title>\n<polygon fill=\"none\" stroke=\"black\" points=\"2.25,-110.5 2.25,-146.5 195.75,-146.5 195.75,-110.5 2.25,-110.5\"/>\n<text text-anchor=\"middle\" x=\"18.5\" y=\"-123.7\" font-family=\"Times,serif\" font-size=\"14.00\">w2</text>\n<polyline fill=\"none\" stroke=\"black\" points=\"34.75,-111 34.75,-146.5\"/>\n<text text-anchor=\"middle\" x=\"74.62\" y=\"-123.7\" font-family=\"Times,serif\" font-size=\"14.00\">data 1.0000</text>\n<polyline fill=\"none\" stroke=\"black\" points=\"114.5,-111 114.5,-146.5\"/>\n<text text-anchor=\"middle\" x=\"155.12\" y=\"-123.7\" font-family=\"Times,serif\" font-size=\"14.00\">grad 0.0000</text>\n</g>\n<!-- 4587741008&#45;&gt;4587744976* -->\n<g id=\"edge18\" class=\"edge\">\n<title>4587741008&#45;&gt;4587744976*</title>\n<path fill=\"none\" stroke=\"black\" d=\"M195.84,-128.5C205.14,-128.5 214.15,-128.5 222.32,-128.5\"/>\n<polygon fill=\"black\" stroke=\"black\" points=\"222.13,-132 232.13,-128.5 222.13,-125 222.13,-132\"/>\n</g>\n<!-- 4587749200 -->\n<g id=\"node19\" class=\"node\">\n<title>4587749200</title>\n<polygon fill=\"none\" stroke=\"black\" points=\"324,-55.5 324,-91.5 542.25,-91.5 542.25,-55.5 324,-55.5\"/>\n<text text-anchor=\"middle\" x=\"350.38\" y=\"-68.7\" font-family=\"Times,serif\" font-size=\"14.00\">x1*w1</text>\n<polyline fill=\"none\" stroke=\"black\" points=\"376.75,-56 376.75,-91.5\"/>\n<text text-anchor=\"middle\" x=\"418.88\" y=\"-68.7\" font-family=\"Times,serif\" font-size=\"14.00\">data &#45;6.0000</text>\n<polyline fill=\"none\" stroke=\"black\" points=\"461,-56 461,-91.5\"/>\n<text text-anchor=\"middle\" x=\"501.62\" y=\"-68.7\" font-family=\"Times,serif\" font-size=\"14.00\">grad 0.5000</text>\n</g>\n<!-- 4587749200&#45;&gt;4587748816+ -->\n<g id=\"edge25\" class=\"edge\">\n<title>4587749200&#45;&gt;4587748816+</title>\n<path fill=\"none\" stroke=\"black\" d=\"M542.35,-90.68C551.12,-92.07 559.54,-93.4 567.19,-94.62\"/>\n<polygon fill=\"black\" stroke=\"black\" points=\"566.59,-98.07 577.02,-96.18 567.69,-91.15 566.59,-98.07\"/>\n</g>\n<!-- 4587749200*&#45;&gt;4587749200 -->\n<g id=\"edge6\" class=\"edge\">\n<title>4587749200*&#45;&gt;4587749200</title>\n<path fill=\"none\" stroke=\"black\" d=\"M288.21,-73.5C295.29,-73.5 303.43,-73.5 312.17,-73.5\"/>\n<polygon fill=\"black\" stroke=\"black\" points=\"312.01,-77 322.01,-73.5 312.01,-70 312.01,-77\"/>\n</g>\n<!-- 4587740496 -->\n<g id=\"node21\" class=\"node\">\n<title>4587740496</title>\n<polygon fill=\"none\" stroke=\"black\" points=\"2430.75,-106.5 2430.75,-142.5 2611.5,-142.5 2611.5,-106.5 2430.75,-106.5\"/>\n<text text-anchor=\"middle\" x=\"2440.62\" y=\"-119.7\" font-family=\"Times,serif\" font-size=\"14.00\"> </text>\n<polyline fill=\"none\" stroke=\"black\" points=\"2450.5,-107 2450.5,-142.5\"/>\n<text text-anchor=\"middle\" x=\"2490.38\" y=\"-119.7\" font-family=\"Times,serif\" font-size=\"14.00\">data 0.1464</text>\n<polyline fill=\"none\" stroke=\"black\" points=\"2530.25,-107 2530.25,-142.5\"/>\n<text text-anchor=\"middle\" x=\"2570.88\" y=\"-119.7\" font-family=\"Times,serif\" font-size=\"14.00\">grad 4.8284</text>\n</g>\n<!-- 4587740496&#45;&gt;4587749328* -->\n<g id=\"edge16\" class=\"edge\">\n<title>4587740496&#45;&gt;4587749328*</title>\n<path fill=\"none\" stroke=\"black\" d=\"M2611.93,-109.08C2620.54,-107.6 2628.89,-106.16 2636.53,-104.85\"/>\n<polygon fill=\"black\" stroke=\"black\" points=\"2637.11,-108.3 2646.37,-103.16 2635.92,-101.4 2637.11,-108.3\"/>\n</g>\n<!-- 4587740496**&#45;1&#45;&gt;4587740496 -->\n<g id=\"edge7\" class=\"edge\">\n<title>4587740496**&#45;1&#45;&gt;4587740496</title>\n<path fill=\"none\" stroke=\"black\" d=\"M2332.57,-126.25C2354.68,-126.04 2387.33,-125.74 2419.22,-125.44\"/>\n<polygon fill=\"black\" stroke=\"black\" points=\"2418.96,-128.94 2428.93,-125.35 2418.9,-121.94 2418.96,-128.94\"/>\n</g>\n<!-- 4587748240 -->\n<g id=\"node23\" class=\"node\">\n<title>4587748240</title>\n<polygon fill=\"none\" stroke=\"black\" points=\"2214,-53.5 2214,-89.5 2394.75,-89.5 2394.75,-53.5 2214,-53.5\"/>\n<text text-anchor=\"middle\" x=\"2223.88\" y=\"-66.7\" font-family=\"Times,serif\" font-size=\"14.00\"> </text>\n<polyline fill=\"none\" stroke=\"black\" points=\"2233.75,-54 2233.75,-89.5\"/>\n<text text-anchor=\"middle\" x=\"2273.62\" y=\"-66.7\" font-family=\"Times,serif\" font-size=\"14.00\">data 4.8284</text>\n<polyline fill=\"none\" stroke=\"black\" points=\"2313.5,-54 2313.5,-89.5\"/>\n<text text-anchor=\"middle\" x=\"2354.12\" y=\"-66.7\" font-family=\"Times,serif\" font-size=\"14.00\">grad 0.1464</text>\n</g>\n<!-- 4587748240&#45;&gt;4587749328* -->\n<g id=\"edge28\" class=\"edge\">\n<title>4587748240&#45;&gt;4587749328*</title>\n<path fill=\"none\" stroke=\"black\" d=\"M2394.96,-78.07C2472.25,-83.74 2580.03,-91.64 2636.17,-95.76\"/>\n<polygon fill=\"black\" stroke=\"black\" points=\"2635.59,-99.23 2645.82,-96.47 2636.1,-92.25 2635.59,-99.23\"/>\n</g>\n<!-- 4587748240+&#45;&gt;4587748240 -->\n<g id=\"edge8\" class=\"edge\">\n<title>4587748240+&#45;&gt;4587748240</title>\n<path fill=\"none\" stroke=\"black\" d=\"M1957.25,-71.5C2007.51,-71.5 2119.07,-71.5 2202.03,-71.5\"/>\n<polygon fill=\"black\" stroke=\"black\" points=\"2202.02,-75 2212.02,-71.5 2202.02,-68 2202.02,-75\"/>\n</g>\n<!-- 4587748752 -->\n<g id=\"node25\" class=\"node\">\n<title>4587748752</title>\n<polygon fill=\"none\" stroke=\"black\" points=\"1683.75,-81.5 1683.75,-117.5 1864.5,-117.5 1864.5,-81.5 1683.75,-81.5\"/>\n<text text-anchor=\"middle\" x=\"1693.62\" y=\"-94.7\" font-family=\"Times,serif\" font-size=\"14.00\"> </text>\n<polyline fill=\"none\" stroke=\"black\" points=\"1703.5,-82 1703.5,-117.5\"/>\n<text text-anchor=\"middle\" x=\"1743.38\" y=\"-94.7\" font-family=\"Times,serif\" font-size=\"14.00\">data 5.8284</text>\n<polyline fill=\"none\" stroke=\"black\" points=\"1783.25,-82 1783.25,-117.5\"/>\n<text text-anchor=\"middle\" x=\"1823.88\" y=\"-94.7\" font-family=\"Times,serif\" font-size=\"14.00\">grad 0.0429</text>\n</g>\n<!-- 4587748752&#45;&gt;4587748432+ -->\n<g id=\"edge17\" class=\"edge\">\n<title>4587748752&#45;&gt;4587748432+</title>\n<path fill=\"none\" stroke=\"black\" d=\"M1864.93,-115.28C1874.48,-116.96 1883.76,-118.59 1892.14,-120.07\"/>\n<polygon fill=\"black\" stroke=\"black\" points=\"1891.39,-123.49 1901.85,-121.77 1892.61,-116.59 1891.39,-123.49\"/>\n</g>\n<!-- 4587748752&#45;&gt;4587748240+ -->\n<g id=\"edge21\" class=\"edge\">\n<title>4587748752&#45;&gt;4587748240+</title>\n<path fill=\"none\" stroke=\"black\" d=\"M1864.93,-83.13C1874.48,-81.39 1883.76,-79.7 1892.14,-78.17\"/>\n<polygon fill=\"black\" stroke=\"black\" points=\"1892.64,-81.64 1901.85,-76.4 1891.39,-74.75 1892.64,-81.64\"/>\n</g>\n<!-- 4587748752exp -->\n<g id=\"node26\" class=\"node\">\n<title>4587748752exp</title>\n<ellipse fill=\"none\" stroke=\"black\" cx=\"1618.5\" cy=\"-99.5\" rx=\"27\" ry=\"18\"/>\n<text text-anchor=\"middle\" x=\"1618.5\" y=\"-94.45\" font-family=\"Times,serif\" font-size=\"14.00\">exp</text>\n</g>\n<!-- 4587748752exp&#45;&gt;4587748752 -->\n<g id=\"edge9\" class=\"edge\">\n<title>4587748752exp&#45;&gt;4587748752</title>\n<path fill=\"none\" stroke=\"black\" d=\"M1645.91,-99.5C1653.62,-99.5 1662.54,-99.5 1672.01,-99.5\"/>\n<polygon fill=\"black\" stroke=\"black\" points=\"1671.82,-103 1681.82,-99.5 1671.82,-96 1671.82,-103\"/>\n</g>\n<!-- 4587746256 -->\n<g id=\"node27\" class=\"node\">\n<title>4587746256</title>\n<polygon fill=\"none\" stroke=\"black\" points=\"1374.75,-81.5 1374.75,-117.5 1555.5,-117.5 1555.5,-81.5 1374.75,-81.5\"/>\n<text text-anchor=\"middle\" x=\"1384.62\" y=\"-94.7\" font-family=\"Times,serif\" font-size=\"14.00\"> </text>\n<polyline fill=\"none\" stroke=\"black\" points=\"1394.5,-82 1394.5,-117.5\"/>\n<text text-anchor=\"middle\" x=\"1434.38\" y=\"-94.7\" font-family=\"Times,serif\" font-size=\"14.00\">data 1.7627</text>\n<polyline fill=\"none\" stroke=\"black\" points=\"1474.25,-82 1474.25,-117.5\"/>\n<text text-anchor=\"middle\" x=\"1514.88\" y=\"-94.7\" font-family=\"Times,serif\" font-size=\"14.00\">grad 0.2500</text>\n</g>\n<!-- 4587746256&#45;&gt;4587748752exp -->\n<g id=\"edge11\" class=\"edge\">\n<title>4587746256&#45;&gt;4587748752exp</title>\n<path fill=\"none\" stroke=\"black\" d=\"M1555.93,-99.5C1564.27,-99.5 1572.37,-99.5 1579.81,-99.5\"/>\n<polygon fill=\"black\" stroke=\"black\" points=\"1579.75,-103 1589.75,-99.5 1579.75,-96 1579.75,-103\"/>\n</g>\n<!-- 4587746256*&#45;&gt;4587746256 -->\n<g id=\"edge10\" class=\"edge\">\n<title>4587746256*&#45;&gt;4587746256</title>\n<path fill=\"none\" stroke=\"black\" d=\"M1339.12,-99.5C1346.26,-99.5 1354.45,-99.5 1363.14,-99.5\"/>\n<polygon fill=\"black\" stroke=\"black\" points=\"1362.86,-103 1372.86,-99.5 1362.86,-96 1362.86,-103\"/>\n</g>\n</g>\n</svg>\n",
      "text/plain": "<graphviz.graphs.Digraph at 0x111734f90>"
     },
     "execution_count": 9,
     "metadata": {},
     "output_type": "execute_result"
    }
   ],
   "source": [
    "# inputs x1,x2\n",
    "x1 = Value(2.0, label='x1')\n",
    "x2 = Value(0.0, label='x2')\n",
    "# weights w1,w2\n",
    "w1 = Value(-3.0, label='w1')\n",
    "w2 = Value(1.0, label='w2')\n",
    "# bias of the neuron\n",
    "b = Value(6.8813735870195432, label='b')\n",
    "# x1*w1 + x2*w2 + b\n",
    "x1w1 = x1*w1; x1w1.label = 'x1*w1'\n",
    "x2w2 = x2*w2; x2w2.label = 'x2*w2'\n",
    "x1w1x2w2 = x1w1 + x2w2; x1w1x2w2.label = 'x1*w1 + x2*w2'\n",
    "n = x1w1x2w2 + b; n.label = 'n'\n",
    "# ----\n",
    "e = (2*n).exp()\n",
    "o = (e - 1) / (e + 1)\n",
    "# ----\n",
    "o.label = 'o'\n",
    "o.backward()\n",
    "draw_dot(o)"
   ],
   "metadata": {
    "collapsed": false,
    "ExecuteTime": {
     "end_time": "2025-02-03T16:41:01.886975Z",
     "start_time": "2025-02-03T16:41:01.765827Z"
    }
   },
   "id": "76ea20c7f965242b",
   "execution_count": 9
  },
  {
   "cell_type": "code",
   "outputs": [
    {
     "data": {
      "image/svg+xml": "<?xml version=\"1.0\" encoding=\"UTF-8\" standalone=\"no\"?>\n<!DOCTYPE svg PUBLIC \"-//W3C//DTD SVG 1.1//EN\"\n \"http://www.w3.org/Graphics/SVG/1.1/DTD/svg11.dtd\">\n<!-- Generated by graphviz version 12.2.1 (20241206.2353)\n -->\n<!-- Pages: 1 -->\n<svg width=\"501pt\" height=\"45pt\"\n viewBox=\"0.00 0.00 500.75 45.00\" xmlns=\"http://www.w3.org/2000/svg\" xmlns:xlink=\"http://www.w3.org/1999/xlink\">\n<g id=\"graph0\" class=\"graph\" transform=\"scale(1 1) rotate(0) translate(4 41)\">\n<polygon fill=\"white\" stroke=\"none\" points=\"-4,4 -4,-41 496.75,-41 496.75,4 -4,4\"/>\n<!-- 4402238608 -->\n<g id=\"node1\" class=\"node\">\n<title>4402238608</title>\n<polygon fill=\"none\" stroke=\"black\" points=\"0,-0.5 0,-36.5 183,-36.5 183,-0.5 0,-0.5\"/>\n<text text-anchor=\"middle\" x=\"11\" y=\"-13.7\" font-family=\"Times,serif\" font-size=\"14.00\">a</text>\n<polyline fill=\"none\" stroke=\"black\" points=\"22,-1 22,-36.5\"/>\n<text text-anchor=\"middle\" x=\"61.88\" y=\"-13.7\" font-family=\"Times,serif\" font-size=\"14.00\">data 3.0000</text>\n<polyline fill=\"none\" stroke=\"black\" points=\"101.75,-1 101.75,-36.5\"/>\n<text text-anchor=\"middle\" x=\"142.38\" y=\"-13.7\" font-family=\"Times,serif\" font-size=\"14.00\">grad 2.0000</text>\n</g>\n<!-- 4403548752+ -->\n<g id=\"node3\" class=\"node\">\n<title>4403548752+</title>\n<ellipse fill=\"none\" stroke=\"black\" cx=\"246\" cy=\"-18.5\" rx=\"27\" ry=\"18\"/>\n<text text-anchor=\"middle\" x=\"246\" y=\"-13.45\" font-family=\"Times,serif\" font-size=\"14.00\">+</text>\n</g>\n<!-- 4402238608&#45;&gt;4403548752+ -->\n<g id=\"edge2\" class=\"edge\">\n<title>4402238608&#45;&gt;4403548752+</title>\n<path fill=\"none\" stroke=\"black\" d=\"M183.41,-18.5C191.77,-18.5 199.88,-18.5 207.32,-18.5\"/>\n<polygon fill=\"black\" stroke=\"black\" points=\"207.26,-22 217.26,-18.5 207.26,-15 207.26,-22\"/>\n</g>\n<!-- 4403548752 -->\n<g id=\"node2\" class=\"node\">\n<title>4403548752</title>\n<polygon fill=\"none\" stroke=\"black\" points=\"309,-0.5 309,-36.5 492.75,-36.5 492.75,-0.5 309,-0.5\"/>\n<text text-anchor=\"middle\" x=\"320.38\" y=\"-13.7\" font-family=\"Times,serif\" font-size=\"14.00\">b</text>\n<polyline fill=\"none\" stroke=\"black\" points=\"331.75,-1 331.75,-36.5\"/>\n<text text-anchor=\"middle\" x=\"371.62\" y=\"-13.7\" font-family=\"Times,serif\" font-size=\"14.00\">data 6.0000</text>\n<polyline fill=\"none\" stroke=\"black\" points=\"411.5,-1 411.5,-36.5\"/>\n<text text-anchor=\"middle\" x=\"452.12\" y=\"-13.7\" font-family=\"Times,serif\" font-size=\"14.00\">grad 1.0000</text>\n</g>\n<!-- 4403548752+&#45;&gt;4403548752 -->\n<g id=\"edge1\" class=\"edge\">\n<title>4403548752+&#45;&gt;4403548752</title>\n<path fill=\"none\" stroke=\"black\" d=\"M273.28,-18.5C280.42,-18.5 288.61,-18.5 297.32,-18.5\"/>\n<polygon fill=\"black\" stroke=\"black\" points=\"297.06,-22 307.06,-18.5 297.06,-15 297.06,-22\"/>\n</g>\n</g>\n</svg>\n",
      "text/plain": "<graphviz.graphs.Digraph at 0x106513d50>"
     },
     "execution_count": 85,
     "metadata": {},
     "output_type": "execute_result"
    }
   ],
   "source": [
    "a = Value(3.0, label='a')\n",
    "b = a + a   ; b.label = 'b'\n",
    "b.backward()\n",
    "draw_dot(b)"
   ],
   "metadata": {
    "collapsed": false,
    "ExecuteTime": {
     "end_time": "2025-01-23T17:22:55.161724Z",
     "start_time": "2025-01-23T17:22:55.067013Z"
    }
   },
   "id": "6714745d5b459e93",
   "execution_count": 85
  },
  {
   "cell_type": "code",
   "outputs": [
    {
     "data": {
      "image/svg+xml": "<?xml version=\"1.0\" encoding=\"UTF-8\" standalone=\"no\"?>\n<!DOCTYPE svg PUBLIC \"-//W3C//DTD SVG 1.1//EN\"\n \"http://www.w3.org/Graphics/SVG/1.1/DTD/svg11.dtd\">\n<!-- Generated by graphviz version 12.2.1 (20241206.2353)\n -->\n<!-- Pages: 1 -->\n<svg width=\"826pt\" height=\"100pt\"\n viewBox=\"0.00 0.00 826.25 100.00\" xmlns=\"http://www.w3.org/2000/svg\" xmlns:xlink=\"http://www.w3.org/1999/xlink\">\n<g id=\"graph0\" class=\"graph\" transform=\"scale(1 1) rotate(0) translate(4 96)\">\n<polygon fill=\"white\" stroke=\"none\" points=\"-4,4 -4,-96 822.25,-96 822.25,4 -4,4\"/>\n<!-- 4403562896 -->\n<g id=\"node1\" class=\"node\">\n<title>4403562896</title>\n<polygon fill=\"none\" stroke=\"black\" points=\"318.38,-55.5 318.38,-91.5 505.88,-91.5 505.88,-55.5 318.38,-55.5\"/>\n<text text-anchor=\"middle\" x=\"329.38\" y=\"-68.7\" font-family=\"Times,serif\" font-size=\"14.00\">e</text>\n<polyline fill=\"none\" stroke=\"black\" points=\"340.38,-56 340.38,-91.5\"/>\n<text text-anchor=\"middle\" x=\"380.25\" y=\"-68.7\" font-family=\"Times,serif\" font-size=\"14.00\">data 1.0000</text>\n<polyline fill=\"none\" stroke=\"black\" points=\"420.12,-56 420.12,-91.5\"/>\n<text text-anchor=\"middle\" x=\"463\" y=\"-68.7\" font-family=\"Times,serif\" font-size=\"14.00\">grad &#45;6.0000</text>\n</g>\n<!-- 4403571600* -->\n<g id=\"node8\" class=\"node\">\n<title>4403571600*</title>\n<ellipse fill=\"none\" stroke=\"black\" cx=\"569.25\" cy=\"-45.5\" rx=\"27\" ry=\"18\"/>\n<text text-anchor=\"middle\" x=\"569.25\" y=\"-40.45\" font-family=\"Times,serif\" font-size=\"14.00\">*</text>\n</g>\n<!-- 4403562896&#45;&gt;4403571600* -->\n<g id=\"edge4\" class=\"edge\">\n<title>4403562896&#45;&gt;4403571600*</title>\n<path fill=\"none\" stroke=\"black\" d=\"M506.05,-56.73C514.96,-55.12 523.59,-53.56 531.44,-52.14\"/>\n<polygon fill=\"black\" stroke=\"black\" points=\"531.99,-55.6 541.21,-50.38 530.75,-48.71 531.99,-55.6\"/>\n</g>\n<!-- 4403562896+ -->\n<g id=\"node2\" class=\"node\">\n<title>4403562896+</title>\n<ellipse fill=\"none\" stroke=\"black\" cx=\"255\" cy=\"-73.5\" rx=\"27\" ry=\"18\"/>\n<text text-anchor=\"middle\" x=\"255\" y=\"-68.45\" font-family=\"Times,serif\" font-size=\"14.00\">+</text>\n</g>\n<!-- 4403562896+&#45;&gt;4403562896 -->\n<g id=\"edge1\" class=\"edge\">\n<title>4403562896+&#45;&gt;4403562896</title>\n<path fill=\"none\" stroke=\"black\" d=\"M282.31,-73.5C289.55,-73.5 297.86,-73.5 306.7,-73.5\"/>\n<polygon fill=\"black\" stroke=\"black\" points=\"306.62,-77 316.62,-73.5 306.62,-70 306.62,-77\"/>\n</g>\n<!-- 4402238544 -->\n<g id=\"node3\" class=\"node\">\n<title>4402238544</title>\n<polygon fill=\"none\" stroke=\"black\" points=\"0,-55.5 0,-91.5 192,-91.5 192,-55.5 0,-55.5\"/>\n<text text-anchor=\"middle\" x=\"11\" y=\"-68.7\" font-family=\"Times,serif\" font-size=\"14.00\">a</text>\n<polyline fill=\"none\" stroke=\"black\" points=\"22,-56 22,-91.5\"/>\n<text text-anchor=\"middle\" x=\"64.12\" y=\"-68.7\" font-family=\"Times,serif\" font-size=\"14.00\">data &#45;2.0000</text>\n<polyline fill=\"none\" stroke=\"black\" points=\"106.25,-56 106.25,-91.5\"/>\n<text text-anchor=\"middle\" x=\"149.12\" y=\"-68.7\" font-family=\"Times,serif\" font-size=\"14.00\">grad &#45;3.0000</text>\n</g>\n<!-- 4402238544&#45;&gt;4403562896+ -->\n<g id=\"edge8\" class=\"edge\">\n<title>4402238544&#45;&gt;4403562896+</title>\n<path fill=\"none\" stroke=\"black\" d=\"M192.4,-73.5C200.73,-73.5 208.79,-73.5 216.18,-73.5\"/>\n<polygon fill=\"black\" stroke=\"black\" points=\"216.05,-77 226.05,-73.5 216.05,-70 216.05,-77\"/>\n</g>\n<!-- 4403569488* -->\n<g id=\"node6\" class=\"node\">\n<title>4403569488*</title>\n<ellipse fill=\"none\" stroke=\"black\" cx=\"255\" cy=\"-18.5\" rx=\"27\" ry=\"18\"/>\n<text text-anchor=\"middle\" x=\"255\" y=\"-13.45\" font-family=\"Times,serif\" font-size=\"14.00\">*</text>\n</g>\n<!-- 4402238544&#45;&gt;4403569488* -->\n<g id=\"edge6\" class=\"edge\">\n<title>4402238544&#45;&gt;4403569488*</title>\n<path fill=\"none\" stroke=\"black\" d=\"M166.39,-55.06C175.08,-52.38 183.79,-49.5 192,-46.5 201.99,-42.85 212.63,-38.3 222.22,-33.93\"/>\n<polygon fill=\"black\" stroke=\"black\" points=\"223.55,-37.17 231.15,-29.78 220.6,-30.83 223.55,-37.17\"/>\n</g>\n<!-- 4402910800 -->\n<g id=\"node4\" class=\"node\">\n<title>4402910800</title>\n<polygon fill=\"none\" stroke=\"black\" points=\"1.88,-0.5 1.88,-36.5 190.12,-36.5 190.12,-0.5 1.88,-0.5\"/>\n<text text-anchor=\"middle\" x=\"13.25\" y=\"-13.7\" font-family=\"Times,serif\" font-size=\"14.00\">b</text>\n<polyline fill=\"none\" stroke=\"black\" points=\"24.62,-1 24.62,-36.5\"/>\n<text text-anchor=\"middle\" x=\"64.5\" y=\"-13.7\" font-family=\"Times,serif\" font-size=\"14.00\">data 3.0000</text>\n<polyline fill=\"none\" stroke=\"black\" points=\"104.38,-1 104.38,-36.5\"/>\n<text text-anchor=\"middle\" x=\"147.25\" y=\"-13.7\" font-family=\"Times,serif\" font-size=\"14.00\">grad &#45;8.0000</text>\n</g>\n<!-- 4402910800&#45;&gt;4403562896+ -->\n<g id=\"edge7\" class=\"edge\">\n<title>4402910800&#45;&gt;4403562896+</title>\n<path fill=\"none\" stroke=\"black\" d=\"M163.53,-36.96C173.14,-39.96 182.87,-43.18 192,-46.5 201.86,-50.08 212.39,-54.46 221.92,-58.63\"/>\n<polygon fill=\"black\" stroke=\"black\" points=\"220.23,-61.71 230.79,-62.59 223.09,-55.32 220.23,-61.71\"/>\n</g>\n<!-- 4402910800&#45;&gt;4403569488* -->\n<g id=\"edge5\" class=\"edge\">\n<title>4402910800&#45;&gt;4403569488*</title>\n<path fill=\"none\" stroke=\"black\" d=\"M190.59,-18.5C199.58,-18.5 208.29,-18.5 216.23,-18.5\"/>\n<polygon fill=\"black\" stroke=\"black\" points=\"216.11,-22 226.11,-18.5 216.11,-15 216.11,-22\"/>\n</g>\n<!-- 4403569488 -->\n<g id=\"node5\" class=\"node\">\n<title>4403569488</title>\n<polygon fill=\"none\" stroke=\"black\" points=\"318,-0.5 318,-36.5 506.25,-36.5 506.25,-0.5 318,-0.5\"/>\n<text text-anchor=\"middle\" x=\"329.38\" y=\"-13.7\" font-family=\"Times,serif\" font-size=\"14.00\">d</text>\n<polyline fill=\"none\" stroke=\"black\" points=\"340.75,-1 340.75,-36.5\"/>\n<text text-anchor=\"middle\" x=\"382.88\" y=\"-13.7\" font-family=\"Times,serif\" font-size=\"14.00\">data &#45;6.0000</text>\n<polyline fill=\"none\" stroke=\"black\" points=\"425,-1 425,-36.5\"/>\n<text text-anchor=\"middle\" x=\"465.62\" y=\"-13.7\" font-family=\"Times,serif\" font-size=\"14.00\">grad 1.0000</text>\n</g>\n<!-- 4403569488&#45;&gt;4403571600* -->\n<g id=\"edge9\" class=\"edge\">\n<title>4403569488&#45;&gt;4403571600*</title>\n<path fill=\"none\" stroke=\"black\" d=\"M506.49,-34.75C515.27,-36.28 523.77,-37.76 531.51,-39.1\"/>\n<polygon fill=\"black\" stroke=\"black\" points=\"530.66,-42.51 541.11,-40.78 531.86,-35.61 530.66,-42.51\"/>\n</g>\n<!-- 4403569488*&#45;&gt;4403569488 -->\n<g id=\"edge2\" class=\"edge\">\n<title>4403569488*&#45;&gt;4403569488</title>\n<path fill=\"none\" stroke=\"black\" d=\"M282.31,-18.5C289.49,-18.5 297.72,-18.5 306.47,-18.5\"/>\n<polygon fill=\"black\" stroke=\"black\" points=\"306.29,-22 316.29,-18.5 306.29,-15 306.29,-22\"/>\n</g>\n<!-- 4403571600 -->\n<g id=\"node7\" class=\"node\">\n<title>4403571600</title>\n<polygon fill=\"none\" stroke=\"black\" points=\"632.25,-27.5 632.25,-63.5 818.25,-63.5 818.25,-27.5 632.25,-27.5\"/>\n<text text-anchor=\"middle\" x=\"642.5\" y=\"-40.7\" font-family=\"Times,serif\" font-size=\"14.00\">f</text>\n<polyline fill=\"none\" stroke=\"black\" points=\"652.75,-28 652.75,-63.5\"/>\n<text text-anchor=\"middle\" x=\"694.88\" y=\"-40.7\" font-family=\"Times,serif\" font-size=\"14.00\">data &#45;6.0000</text>\n<polyline fill=\"none\" stroke=\"black\" points=\"737,-28 737,-63.5\"/>\n<text text-anchor=\"middle\" x=\"777.62\" y=\"-40.7\" font-family=\"Times,serif\" font-size=\"14.00\">grad 1.0000</text>\n</g>\n<!-- 4403571600*&#45;&gt;4403571600 -->\n<g id=\"edge3\" class=\"edge\">\n<title>4403571600*&#45;&gt;4403571600</title>\n<path fill=\"none\" stroke=\"black\" d=\"M596.72,-45.5C603.86,-45.5 612.03,-45.5 620.71,-45.5\"/>\n<polygon fill=\"black\" stroke=\"black\" points=\"620.44,-49 630.44,-45.5 620.44,-42 620.44,-49\"/>\n</g>\n</g>\n</svg>\n",
      "text/plain": "<graphviz.graphs.Digraph at 0x1067922d0>"
     },
     "execution_count": 86,
     "metadata": {},
     "output_type": "execute_result"
    }
   ],
   "source": [
    "a = Value(-2.0, label='a')\n",
    "b = Value(3.0, label='b')\n",
    "d = a * b    ; d.label = 'd'\n",
    "e = a + b    ; e.label = 'e'\n",
    "f = d * e    ; f.label = 'f'\n",
    "\n",
    "f.backward()\n",
    "\n",
    "draw_dot(f)"
   ],
   "metadata": {
    "collapsed": false,
    "ExecuteTime": {
     "end_time": "2025-01-23T17:22:57.035174Z",
     "start_time": "2025-01-23T17:22:56.943982Z"
    }
   },
   "id": "6a9027cc633bc2cf",
   "execution_count": 86
  },
  {
   "cell_type": "code",
   "outputs": [
    {
     "data": {
      "text/plain": "Value(data=0.5)"
     },
     "execution_count": 5,
     "metadata": {},
     "output_type": "execute_result"
    }
   ],
   "source": [
    "a = Value(2.0)\n",
    "b = Value(4.0)\n",
    "a / b"
   ],
   "metadata": {
    "collapsed": false,
    "ExecuteTime": {
     "end_time": "2025-02-03T16:38:58.236593Z",
     "start_time": "2025-02-03T16:38:58.233581Z"
    }
   },
   "id": "81d7593b53f148f4",
   "execution_count": 5
  },
  {
   "cell_type": "code",
   "outputs": [
    {
     "data": {
      "text/plain": "Value(data=-2.0)"
     },
     "execution_count": 6,
     "metadata": {},
     "output_type": "execute_result"
    }
   ],
   "source": [
    "a - b"
   ],
   "metadata": {
    "collapsed": false,
    "ExecuteTime": {
     "end_time": "2025-02-03T16:38:58.727678Z",
     "start_time": "2025-02-03T16:38:58.724627Z"
    }
   },
   "id": "6b0d8be5ce82a8f2",
   "execution_count": 6
  },
  {
   "cell_type": "code",
   "outputs": [],
   "source": [],
   "metadata": {
    "collapsed": false
   },
   "id": "74eb99d2157ad31c"
  }
 ],
 "metadata": {
  "kernelspec": {
   "display_name": "Python 3",
   "language": "python",
   "name": "python3"
  },
  "language_info": {
   "codemirror_mode": {
    "name": "ipython",
    "version": 2
   },
   "file_extension": ".py",
   "mimetype": "text/x-python",
   "name": "python",
   "nbconvert_exporter": "python",
   "pygments_lexer": "ipython2",
   "version": "2.7.6"
  }
 },
 "nbformat": 4,
 "nbformat_minor": 5
}
